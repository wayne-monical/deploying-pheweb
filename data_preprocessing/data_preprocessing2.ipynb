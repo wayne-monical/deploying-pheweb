{
 "cells": [
  {
   "cell_type": "code",
   "execution_count": 44,
   "id": "6f88ade5-2480-4dbd-a9a2-bdac4f64e0e2",
   "metadata": {},
   "outputs": [],
   "source": [
    "import pandas as pd\n",
    "import glob\n",
    "import os\n",
    "import json\n",
    "\n",
    "# Define the folder path\n",
    "folder_path = \"raw_data\"  # Change this to your actual folder path\n",
    "\n",
    "# Get a list of all CSV files in the folder\n",
    "csv_files = glob.glob(os.path.join(folder_path, \"*.csv\"))\n",
    "\n",
    "# Read each CSV file and store them in a list\n",
    "df_list = [pd.read_csv(file) for file in csv_files]\n",
    "\n",
    "# Concatenate all DataFrames into one\n",
    "df_combined = pd.concat(df_list, ignore_index=True)\n",
    "\n",
    "# cleaning\n",
    "df_combined = df_combined.assign(snp = df_combined.snp.str.replace('`', ''))\n",
    "\n",
    "# extract the SNP data\n",
    "df_combined[['chrom', 'pos', 'default_alternate']] = df_combined.snp.str.extract(r'(\\d+):(\\d+)_([A-Za-z])')\n",
    "\n",
    "# add custom risk alleles (what we want the alleles to be)\n",
    "custom_risk_alleles = pd.read_csv('custom_risk_alleles.csv').astype(str)\n",
    "df_combined = df_combined.merge(custom_risk_alleles, how = 'left')"
   ]
  },
  {
   "cell_type": "code",
   "execution_count": 45,
   "id": "6cbac31e",
   "metadata": {},
   "outputs": [],
   "source": [
    "# drop the n = 0 rows\n",
    "df_combined = df_combined[df_combined.n_total > 0]\n",
    "\n",
    "# drop nans\n",
    "df_combined = df_combined.dropna(subset=['ref', 'alt'])"
   ]
  },
  {
   "cell_type": "code",
   "execution_count": 46,
   "id": "6aec2d4e",
   "metadata": {},
   "outputs": [],
   "source": [
    "# rename necessary cols\n",
    "df_combined = df_combined.assign(\n",
    "\n",
    "    # clean\n",
    "    phenocode = df_combined.phenotype,\n",
    "    phenostring = df_combined.description,\n",
    "    clean_phenotype = df_combined.description.str.lower().str.replace('[ -]', '_', regex = True).str.replace(\"[',\\\\]\\\\[\\\\(\\\\)/;&\\\\.]\", \"\", regex = True),\n",
    "\n",
    "    # rename\n",
    "    reference = df_combined.ref,\n",
    "    alternate = df_combined.alt,\n",
    "    num_samples = df_combined.n_total,\n",
    "    num_controls = df_combined.n_controls,\n",
    "    num_cases = df_combined.n_cases,\n",
    "    se = df_combined.SE,\n",
    "\n",
    "    maf = round(df_combined.assign(allele_freq2 = 1 - df_combined.allele_freq)[['allele_freq', 'allele_freq2']].min(axis = 1), 2),\n",
    "\n",
    "    # capitalize the first letter\n",
    "    category = df_combined.group.str.slice(0,1).str.upper() + df_combined.group.str.slice(1),\n",
    "\n",
    "    # retype\n",
    "    chrom = df_combined.chrom.astype(int),\n",
    "    pos = df_combined.pos.astype(int)\n",
    ")\n",
    "\n",
    "df_combined['or'] = df_combined.OR\n",
    "df_combined['af'] = 1 - df_combined.maf"
   ]
  },
  {
   "cell_type": "code",
   "execution_count": 47,
   "id": "2aad4841",
   "metadata": {},
   "outputs": [],
   "source": [
    "# filter out 8:143778381_A because we don't have the right alternate allele\n",
    "df_combined = df_combined[df_combined.snp != '8:143778381_A']"
   ]
  },
  {
   "cell_type": "code",
   "execution_count": 57,
   "id": "18bb85e9-df8b-45ec-8ba7-497c226dbeb9",
   "metadata": {},
   "outputs": [],
   "source": [
    "final_cols = [\n",
    "    'chrom', 'pos', 'reference', 'alternate', 'p',\n",
    "    'num_cases', 'num_controls', 'maf', 'af', 'beta', 'se', 'or', \n",
    "]"
   ]
  },
  {
   "cell_type": "code",
   "execution_count": 58,
   "id": "2283ea1d",
   "metadata": {},
   "outputs": [],
   "source": [
    "# if the default alternate equals the reference allele, swap the sign of the beta and invert OR\n",
    "df_combined.loc[df_combined['default_alternate'] == df_combined['reference'], 'beta'] *= -1\n",
    "df_combined.loc[df_combined['default_alternate'] == df_combined['reference'], 'or'] = 1 / df_combined.loc[df_combined['default_alternate'] == df_combined['reference'], 'or']"
   ]
  },
  {
   "cell_type": "code",
   "execution_count": 59,
   "id": "9f7d3a2a-ec1e-4b85-853e-58cf56d3162d",
   "metadata": {},
   "outputs": [],
   "source": [
    "# sort very important for Pheweb\n",
    "df_combined = df_combined.sort_values(['phenocode', 'chrom', 'pos'])"
   ]
  },
  {
   "cell_type": "code",
   "execution_count": 60,
   "id": "dfba9ae6-e44a-4662-a96a-56b683ef457e",
   "metadata": {},
   "outputs": [],
   "source": [
    "# final file\n",
    "df_combined[['phenocode', 'phenostring', 'clean_phenotype', 'category'] + final_cols].to_csv('all_data.csv', index = False)"
   ]
  },
  {
   "cell_type": "code",
   "execution_count": 61,
   "id": "d5ae39c1-7e22-4c2b-a31f-33180f93f2c2",
   "metadata": {},
   "outputs": [
    {
     "data": {
      "text/plain": [
       "<Axes: >"
      ]
     },
     "execution_count": 61,
     "metadata": {},
     "output_type": "execute_result"
    },
    {
     "data": {
      "image/png": "[encoded data removed]",
      "text/plain": [
       "<Figure size 640x480 with 1 Axes>"
      ]
     },
     "metadata": {},
     "output_type": "display_data"
    }
   ],
   "source": [
    "# note that the p-value is raw\n",
    "df_combined.p.hist()"
   ]
  },
  {
   "cell_type": "markdown",
   "id": "2454e555-fde6-4a8c-b439-fdfce54776e4",
   "metadata": {},
   "source": [
    "## Formatting "
   ]
  },
  {
   "cell_type": "markdown",
   "id": "01689128-fa78-4aa0-a8b8-5bb884f2b6fc",
   "metadata": {},
   "source": [
    "I need to format the files a la Github specifications. One file per phenotype"
   ]
  },
  {
   "cell_type": "code",
   "execution_count": 62,
   "id": "d7094c65",
   "metadata": {},
   "outputs": [
    {
     "data": {
      "text/plain": [
       "Series([], Name: phenocode, dtype: float64)"
      ]
     },
     "execution_count": 62,
     "metadata": {},
     "output_type": "execute_result"
    }
   ],
   "source": [
    "# do any phenocodes have zero samples? \n",
    "n_totals = df_combined.groupby('phenocode').n_total.sum()\n",
    "pd.Series(n_totals[n_totals == 0].index)"
   ]
  },
  {
   "cell_type": "code",
   "execution_count": 63,
   "id": "d94f40b2",
   "metadata": {},
   "outputs": [],
   "source": [
    "unique_phenotypes = df_combined[['phenocode', 'phenostring', 'category', 'clean_phenotype']].drop_duplicates()\n",
    "\n",
    "# check for consistent phenotype categories\n",
    "if unique_phenotypes.shape[0] != df_combined.phenocode.nunique():\n",
    "    raise ValueError(\"Non-unique phenotype categories. One or more phenotypes have multiple categories\")"
   ]
  },
  {
   "cell_type": "code",
   "execution_count": 64,
   "id": "69aac247",
   "metadata": {},
   "outputs": [
    {
     "data": {
      "text/plain": [
       "Index(['phenotype', 'snp', 'adjustment', 'beta', 'OR', 'SE', 'p', 'type',\n",
       "       'n_total', 'n_cases', 'n_controls', 'HWE_p.min', 'allele_freq',\n",
       "       'n_no_snp', 'k_studies', 'tau2', 'I2.percent', 'Q', 'Q.df', 'Q.p',\n",
       "       'beta.fixed', 'OR.fixed', 'SE.fixed', 'p.fixed', 'beta.random',\n",
       "       'OR.random', 'SE.random', 'p.random', 'description', 'group', 'chrom',\n",
       "       'pos', 'default_alternate', 'ref', 'alt', 'rsids', 'nearest_genes',\n",
       "       'phenocode', 'phenostring', 'clean_phenotype', 'reference', 'alternate',\n",
       "       'num_samples', 'num_controls', 'num_cases', 'se', 'maf', 'category',\n",
       "       'or', 'af'],\n",
       "      dtype='object')"
      ]
     },
     "execution_count": 64,
     "metadata": {},
     "output_type": "execute_result"
    }
   ],
   "source": [
    "df_combined.columns"
   ]
  },
  {
   "cell_type": "code",
   "execution_count": 65,
   "id": "af17fa4d-c5d3-4c62-b4ae-74c6c64a1d61",
   "metadata": {},
   "outputs": [],
   "source": [
    "# remove all files in folder\n",
    "import os\n",
    "import glob\n",
    "\n",
    "files = glob.glob('clean_data/*.csv')\n",
    "for f in files:\n",
    "    os.remove(f)\n",
    "\n",
    "# make a file for each phenotype\n",
    "for pheno in unique_phenotypes.clean_phenotype:\n",
    "    df_combined[df_combined.clean_phenotype == pheno][final_cols].to_csv('clean_data/' + str(pheno) + '.csv', index = False)"
   ]
  },
  {
   "cell_type": "code",
   "execution_count": 66,
   "id": "70880907",
   "metadata": {},
   "outputs": [],
   "source": [
    "pheno_df = unique_phenotypes.assign(\n",
    "    assoc_files = 'clean_data/' + unique_phenotypes.clean_phenotype + '.csv'\n",
    "    )[['assoc_files',  'category', 'phenocode', 'phenostring']]\n",
    "\n",
    "pheno_df.to_csv('pheno-list.csv', index = False)"
   ]
  },
  {
   "cell_type": "code",
   "execution_count": 67,
   "id": "12d3991c-fcaa-4e72-89c0-bd3d81956cd9",
   "metadata": {},
   "outputs": [
    {
     "data": {
      "text/html": [
       "<div>\n",
       "<style scoped>\n",
       "    .dataframe tbody tr th:only-of-type {\n",
       "        vertical-align: middle;\n",
       "    }\n",
       "\n",
       "    .dataframe tbody tr th {\n",
       "        vertical-align: top;\n",
       "    }\n",
       "\n",
       "    .dataframe thead th {\n",
       "        text-align: right;\n",
       "    }\n",
       "</style>\n",
       "<table border=\"1\" class=\"dataframe\">\n",
       "  <thead>\n",
       "    <tr style=\"text-align: right;\">\n",
       "      <th></th>\n",
       "      <th>assoc_files</th>\n",
       "      <th>category</th>\n",
       "      <th>phenocode</th>\n",
       "      <th>phenostring</th>\n",
       "    </tr>\n",
       "  </thead>\n",
       "  <tbody>\n",
       "    <tr>\n",
       "      <th>4041</th>\n",
       "      <td>clean_data/dermatophytosis__dermatomycosis.csv</td>\n",
       "      <td>Infectious diseases</td>\n",
       "      <td>110.00</td>\n",
       "      <td>Dermatophytosis / Dermatomycosis</td>\n",
       "    </tr>\n",
       "    <tr>\n",
       "      <th>4042</th>\n",
       "      <td>clean_data/dermatophytosis.csv</td>\n",
       "      <td>Infectious diseases</td>\n",
       "      <td>110.10</td>\n",
       "      <td>Dermatophytosis</td>\n",
       "    </tr>\n",
       "    <tr>\n",
       "      <th>4043</th>\n",
       "      <td>clean_data/dermatophytosis_of_nail.csv</td>\n",
       "      <td>Infectious diseases</td>\n",
       "      <td>110.11</td>\n",
       "      <td>Dermatophytosis of nail</td>\n",
       "    </tr>\n",
       "    <tr>\n",
       "      <th>4044</th>\n",
       "      <td>clean_data/althetes_foot.csv</td>\n",
       "      <td>Infectious diseases</td>\n",
       "      <td>110.12</td>\n",
       "      <td>Althete's foot</td>\n",
       "    </tr>\n",
       "    <tr>\n",
       "      <th>4045</th>\n",
       "      <td>clean_data/dermatophytosis_of_the_body.csv</td>\n",
       "      <td>Infectious diseases</td>\n",
       "      <td>110.13</td>\n",
       "      <td>Dermatophytosis of the body</td>\n",
       "    </tr>\n",
       "    <tr>\n",
       "      <th>...</th>\n",
       "      <td>...</td>\n",
       "      <td>...</td>\n",
       "      <td>...</td>\n",
       "      <td>...</td>\n",
       "    </tr>\n",
       "    <tr>\n",
       "      <th>6054</th>\n",
       "      <td>clean_data/effects_radiation_nos.csv</td>\n",
       "      <td>Injuries &amp; poisonings</td>\n",
       "      <td>990.00</td>\n",
       "      <td>Effects radiation NOS</td>\n",
       "    </tr>\n",
       "    <tr>\n",
       "      <th>6055</th>\n",
       "      <td>clean_data/sepsis_and_sirs.csv</td>\n",
       "      <td>Injuries &amp; poisonings</td>\n",
       "      <td>994.00</td>\n",
       "      <td>Sepsis and SIRS</td>\n",
       "    </tr>\n",
       "    <tr>\n",
       "      <th>6056</th>\n",
       "      <td>clean_data/systemic_inflammatory_response_synd...</td>\n",
       "      <td>Injuries &amp; poisonings</td>\n",
       "      <td>994.10</td>\n",
       "      <td>Systemic inflammatory response syndrome (SIRS)</td>\n",
       "    </tr>\n",
       "    <tr>\n",
       "      <th>6057</th>\n",
       "      <td>clean_data/sepsis.csv</td>\n",
       "      <td>Injuries &amp; poisonings</td>\n",
       "      <td>994.20</td>\n",
       "      <td>Sepsis</td>\n",
       "    </tr>\n",
       "    <tr>\n",
       "      <th>6059</th>\n",
       "      <td>clean_data/septic_shock.csv</td>\n",
       "      <td>Injuries &amp; poisonings</td>\n",
       "      <td>994.21</td>\n",
       "      <td>Septic shock</td>\n",
       "    </tr>\n",
       "  </tbody>\n",
       "</table>\n",
       "<p>1759 rows × 4 columns</p>\n",
       "</div>"
      ],
      "text/plain": [
       "                                            assoc_files  \\\n",
       "4041     clean_data/dermatophytosis__dermatomycosis.csv   \n",
       "4042                     clean_data/dermatophytosis.csv   \n",
       "4043             clean_data/dermatophytosis_of_nail.csv   \n",
       "4044                       clean_data/althetes_foot.csv   \n",
       "4045         clean_data/dermatophytosis_of_the_body.csv   \n",
       "...                                                 ...   \n",
       "6054               clean_data/effects_radiation_nos.csv   \n",
       "6055                     clean_data/sepsis_and_sirs.csv   \n",
       "6056  clean_data/systemic_inflammatory_response_synd...   \n",
       "6057                              clean_data/sepsis.csv   \n",
       "6059                        clean_data/septic_shock.csv   \n",
       "\n",
       "                   category  phenocode  \\\n",
       "4041    Infectious diseases     110.00   \n",
       "4042    Infectious diseases     110.10   \n",
       "4043    Infectious diseases     110.11   \n",
       "4044    Infectious diseases     110.12   \n",
       "4045    Infectious diseases     110.13   \n",
       "...                     ...        ...   \n",
       "6054  Injuries & poisonings     990.00   \n",
       "6055  Injuries & poisonings     994.00   \n",
       "6056  Injuries & poisonings     994.10   \n",
       "6057  Injuries & poisonings     994.20   \n",
       "6059  Injuries & poisonings     994.21   \n",
       "\n",
       "                                         phenostring  \n",
       "4041                Dermatophytosis / Dermatomycosis  \n",
       "4042                                 Dermatophytosis  \n",
       "4043                         Dermatophytosis of nail  \n",
       "4044                                  Althete's foot  \n",
       "4045                     Dermatophytosis of the body  \n",
       "...                                              ...  \n",
       "6054                           Effects radiation NOS  \n",
       "6055                                 Sepsis and SIRS  \n",
       "6056  Systemic inflammatory response syndrome (SIRS)  \n",
       "6057                                          Sepsis  \n",
       "6059                                    Septic shock  \n",
       "\n",
       "[1759 rows x 4 columns]"
      ]
     },
     "execution_count": 67,
     "metadata": {},
     "output_type": "execute_result"
    }
   ],
   "source": [
    "pheno_df"
   ]
  },
  {
   "cell_type": "code",
   "execution_count": 68,
   "id": "d92e62e5",
   "metadata": {},
   "outputs": [],
   "source": [
    "\n",
    "json_df = pheno_df.assign(phenocode = pheno_df.phenocode.astype(str))\n",
    "\n",
    "# Ensure 'assoc_files' becomes a list of one file per row\n",
    "json_df[\"assoc_files\"] = json_df[\"assoc_files\"].apply(lambda x: [x])\n",
    "\n",
    "# Convert to list of dicts\n",
    "pheno_json = json_df.to_dict(orient=\"records\")\n",
    "\n",
    "# Write to JSON file\n",
    "with open(\"pheno-list.json\", \"w\") as f:\n",
    "    json.dump(pheno_json, f, indent=2)"
   ]
  },
  {
   "cell_type": "markdown",
   "id": "b3290b20",
   "metadata": {},
   "source": [
    "## Create Sites.tsv"
   ]
  },
  {
   "cell_type": "code",
   "execution_count": 69,
   "id": "108a9e88",
   "metadata": {},
   "outputs": [],
   "source": [
    "df_combined[['chrom', 'pos', 'ref', 'alt', 'rsids', 'nearest_genes']].drop_duplicates().to_csv('prebuilt_sites.tsv', sep='\\t', index=False)"
   ]
  },
  {
   "cell_type": "code",
   "execution_count": null,
   "id": "e1cfcf24",
   "metadata": {},
   "outputs": [],
   "source": []
  }
 ],
 "metadata": {
  "kernelspec": {
   "display_name": "base",
   "language": "python",
   "name": "python3"
  },
  "language_info": {
   "codemirror_mode": {
    "name": "ipython",
    "version": 3
   },
   "file_extension": ".py",
   "mimetype": "text/x-python",
   "name": "python",
   "nbconvert_exporter": "python",
   "pygments_lexer": "ipython3",
   "version": "3.13.2"
  }
 },
 "nbformat": 4,
 "nbformat_minor": 5
}
